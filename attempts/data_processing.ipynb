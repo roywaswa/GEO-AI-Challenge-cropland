{
 "cells": [
  {
   "cell_type": "markdown",
   "id": "995e0616-1095-4b6f-a089-212c28726853",
   "metadata": {},
   "source": [
    "# Data Preporcessing"
   ]
  },
  {
   "cell_type": "code",
   "execution_count": 1,
   "id": "b55a9227-a887-4a52-8a4a-7b8dda2a5c64",
   "metadata": {
    "tags": []
   },
   "outputs": [],
   "source": [
    "import pandas as pd\n",
    "import geopandas as gpd\n",
    "import numpy as np\n",
    "import matplotlib.pyplot as plt\n",
    "import seaborn as sns"
   ]
  },
  {
   "cell_type": "code",
   "execution_count": 15,
   "id": "69270784-9e9a-48a7-82c0-2b6fe195e240",
   "metadata": {
    "tags": []
   },
   "outputs": [],
   "source": [
    "train_data = pd.read_csv('data/Train.csv', index_col='ID')\n",
    "test_data = pd.read_csv('data/Test.csv', index_col='ID')"
   ]
  },
  {
   "cell_type": "code",
   "execution_count": 5,
   "id": "fde2e23a",
   "metadata": {},
   "outputs": [
    {
     "data": {
      "text/plain": [
       "Index(['Lat', 'Lon', 'Target'], dtype='object')"
      ]
     },
     "execution_count": 5,
     "metadata": {},
     "output_type": "execute_result"
    }
   ],
   "source": [
    "train_data.columns"
   ]
  },
  {
   "cell_type": "code",
   "execution_count": 10,
   "id": "7f4cc6be-aad2-4a6c-b42d-2c7f0482143e",
   "metadata": {
    "tags": []
   },
   "outputs": [],
   "source": [
    "train_features = train_data.columns.drop('Target')\n",
    "target = train_data['Target']\n",
    "features = pd.concat([train_data[train_features], test_data])"
   ]
  },
  {
   "cell_type": "code",
   "execution_count": null,
   "id": "7043a804",
   "metadata": {},
   "outputs": [],
   "source": [
    "def determine_country(lat, lon) -> str:\n",
    "  point = ee.Geometry.Point(lon, lat)\n",
    "  country = ee.FeatureCollection(\"FAO/GAUL_SIMPLIFIED_500m/2015/level0\").filterBounds(point).first().get('ADM0_NAME').getInfo()\n",
    "  print(country)\n",
    "  return str(country)"
   ]
  },
  {
   "cell_type": "code",
   "execution_count": 14,
   "id": "ecd83c79",
   "metadata": {},
   "outputs": [],
   "source": [
    "features_gdf = gpd.GeoDataFrame(features, crs='EPSG:4326', geometry=gpd.points_from_xy(features.Lon, features.Lat))\n",
    "features_gdf.to_file('data/features.geojson', driver='GeoJSON')"
   ]
  }
 ],
 "metadata": {
  "kernelspec": {
   "display_name": "Python 3 (ipykernel)",
   "language": "python",
   "name": "python3"
  },
  "language_info": {
   "codemirror_mode": {
    "name": "ipython",
    "version": 3
   },
   "file_extension": ".py",
   "mimetype": "text/x-python",
   "name": "python",
   "nbconvert_exporter": "python",
   "pygments_lexer": "ipython3",
   "version": "3.11.5"
  }
 },
 "nbformat": 4,
 "nbformat_minor": 5
}
