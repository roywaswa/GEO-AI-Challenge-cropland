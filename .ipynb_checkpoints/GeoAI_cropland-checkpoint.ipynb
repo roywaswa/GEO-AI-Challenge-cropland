{
 "cells": [
  {
   "cell_type": "code",
   "execution_count": 39,
   "metadata": {
    "ExecuteTime": {
     "end_time": "2023-10-02T19:41:44.503959300Z",
     "start_time": "2023-10-02T19:41:44.423931300Z"
    }
   },
   "outputs": [],
   "source": [
    "import ee\n",
    "import geemap\n",
    "import pandas as pd\n",
    "import geopandas as gpd\n",
    "import numpy as np\n",
    "import matplotlib.pyplot as plt\n",
    "import seaborn as sns\n",
    "import contextily as cx\n",
    "import plotly.express as px\n",
    "\n",
    "sns.set_style('whitegrid')\n",
    "sns.set_palette('husl')"
   ]
  },
  {
   "cell_type": "code",
   "execution_count": 40,
   "metadata": {
    "ExecuteTime": {
     "end_time": "2023-10-02T19:43:34.219714100Z",
     "start_time": "2023-10-02T19:41:44.433948500Z"
    }
   },
   "outputs": [
    {
     "data": {
      "text/plain": "<IPython.core.display.HTML object>",
      "text/html": "<p>To authorize access needed by Earth Engine, open the following\n        URL in a web browser and follow the instructions:</p>\n        <p><a href=https://code.earthengine.google.com/client-auth?scopes=https%3A//www.googleapis.com/auth/earthengine%20https%3A//www.googleapis.com/auth/devstorage.full_control&request_id=L_OWATOXu2PopRmvC07c--3PN_J-q06U47O6fSx9-gw&tc=AnTaCt2R5iBmLjO1Zjxzar_h83zk2pbnVH7LHaA2_Fw&cc=Il_V8lS4taxg__tkAlicwMQFTZAgkYDOz3dy-UQjngU>https://code.earthengine.google.com/client-auth?scopes=https%3A//www.googleapis.com/auth/earthengine%20https%3A//www.googleapis.com/auth/devstorage.full_control&request_id=L_OWATOXu2PopRmvC07c--3PN_J-q06U47O6fSx9-gw&tc=AnTaCt2R5iBmLjO1Zjxzar_h83zk2pbnVH7LHaA2_Fw&cc=Il_V8lS4taxg__tkAlicwMQFTZAgkYDOz3dy-UQjngU</a></p>\n        <p>The authorization workflow will generate a code, which you should paste in the box below.</p>\n        "
     },
     "metadata": {},
     "output_type": "display_data"
    },
    {
     "name": "stdout",
     "output_type": "stream",
     "text": [
      "\n",
      "Successfully saved authorization token.\n"
     ]
    }
   ],
   "source": [
    "ee.Initialize()\n",
    "ee.Authenticate()"
   ]
  },
  {
   "cell_type": "code",
   "execution_count": 41,
   "metadata": {
    "ExecuteTime": {
     "end_time": "2023-10-02T19:43:34.229168Z",
     "start_time": "2023-10-02T19:43:34.216191100Z"
    }
   },
   "outputs": [],
   "source": [
    "#Import train and test data\n",
    "train = pd.read_csv('data/Train.csv')\n",
    "test = pd.read_csv('data/Test.csv')"
   ]
  },
  {
   "cell_type": "code",
   "execution_count": 42,
   "metadata": {
    "ExecuteTime": {
     "end_time": "2023-10-02T19:43:34.289889200Z",
     "start_time": "2023-10-02T19:43:34.227153900Z"
    }
   },
   "outputs": [
    {
     "name": "stdout",
     "output_type": "stream",
     "text": [
      "(1500, 4)\n"
     ]
    },
    {
     "data": {
      "text/plain": "                ID        Lat        Lon  Target\n0  ID_SJ098E7S2SY9  34.162491  70.763668       0\n1  ID_CWCD60FGJJYY  32.075695  48.492047       0\n2  ID_R1XF70RMVGL3  14.542826  33.313483       1\n3  ID_0ZBIDY0PEBVO  14.359480  33.284108       1\n4  ID_C20R2C0AYIT0  14.419128  33.528450       0",
      "text/html": "<div>\n<style scoped>\n    .dataframe tbody tr th:only-of-type {\n        vertical-align: middle;\n    }\n\n    .dataframe tbody tr th {\n        vertical-align: top;\n    }\n\n    .dataframe thead th {\n        text-align: right;\n    }\n</style>\n<table border=\"1\" class=\"dataframe\">\n  <thead>\n    <tr style=\"text-align: right;\">\n      <th></th>\n      <th>ID</th>\n      <th>Lat</th>\n      <th>Lon</th>\n      <th>Target</th>\n    </tr>\n  </thead>\n  <tbody>\n    <tr>\n      <th>0</th>\n      <td>ID_SJ098E7S2SY9</td>\n      <td>34.162491</td>\n      <td>70.763668</td>\n      <td>0</td>\n    </tr>\n    <tr>\n      <th>1</th>\n      <td>ID_CWCD60FGJJYY</td>\n      <td>32.075695</td>\n      <td>48.492047</td>\n      <td>0</td>\n    </tr>\n    <tr>\n      <th>2</th>\n      <td>ID_R1XF70RMVGL3</td>\n      <td>14.542826</td>\n      <td>33.313483</td>\n      <td>1</td>\n    </tr>\n    <tr>\n      <th>3</th>\n      <td>ID_0ZBIDY0PEBVO</td>\n      <td>14.359480</td>\n      <td>33.284108</td>\n      <td>1</td>\n    </tr>\n    <tr>\n      <th>4</th>\n      <td>ID_C20R2C0AYIT0</td>\n      <td>14.419128</td>\n      <td>33.528450</td>\n      <td>0</td>\n    </tr>\n  </tbody>\n</table>\n</div>"
     },
     "execution_count": 42,
     "metadata": {},
     "output_type": "execute_result"
    }
   ],
   "source": [
    "print(train.shape)\n",
    "train.head()"
   ]
  },
  {
   "cell_type": "code",
   "execution_count": 43,
   "metadata": {
    "ExecuteTime": {
     "end_time": "2023-10-02T19:43:35.094184800Z",
     "start_time": "2023-10-02T19:43:34.261788500Z"
    }
   },
   "outputs": [
    {
     "data": {
      "text/plain": "<Axes: xlabel='Lon', ylabel='Lat'>"
     },
     "execution_count": 43,
     "metadata": {},
     "output_type": "execute_result"
    },
    {
     "data": {
      "text/plain": "<Figure size 1000x1000 with 1 Axes>",
      "image/png": "[encoded data removed]"
     },
     "metadata": {},
     "output_type": "display_data"
    }
   ],
   "source": [
    "plt.figure(figsize=(10, 10))\n",
    "sns.scatterplot(x='Lon', y='Lat', data=train, hue='Target', palette='husl')"
   ]
  },
  {
   "cell_type": "code",
   "execution_count": 44,
   "metadata": {
    "ExecuteTime": {
     "end_time": "2023-10-02T19:43:35.109025800Z",
     "start_time": "2023-10-02T19:43:35.099702400Z"
    }
   },
   "outputs": [],
   "source": [
    "def determine_country(lat, lon) -> str:\n",
    "  point = ee.Geometry.Point(lon, lat)\n",
    "  country = ee.FeatureCollection(\"FAO/GAUL_SIMPLIFIED_500m/2015/level0\").filterBounds(point).first().get('ADM0_NAME').getInfo()\n",
    "  print(country)\n",
    "  return str(country)"
   ]
  },
  {
   "cell_type": "code",
   "execution_count": 45,
   "metadata": {
    "ExecuteTime": {
     "end_time": "2023-10-02T19:43:35.293611100Z",
     "start_time": "2023-10-02T19:43:35.109025800Z"
    }
   },
   "outputs": [],
   "source": [
    "import concurrent.futures as cf\n",
    "\n",
    "# def determine_country_parallel(x):\n",
    "#   lat, lon = x['Lat'], x['Lon']\n",
    "#   return determine_country(lat, lon)\n",
    "# \n",
    "# with cf.ThreadPoolExecutor(12) as executor:\n",
    "#   results = list(executor.map(determine_country_parallel, train.to_dict('records')))\n",
    "# \n",
    "# train['Country'] = results"
   ]
  },
  {
   "cell_type": "code",
   "execution_count": 46,
   "metadata": {
    "ExecuteTime": {
     "end_time": "2023-10-02T19:43:35.293611100Z",
     "start_time": "2023-10-02T19:43:35.122014900Z"
    }
   },
   "outputs": [],
   "source": [
    "# train.to_csv('data/Train_with_country.csv', index=False)\n",
    "train = pd.read_csv('data/Train_with_country.csv')"
   ]
  },
  {
   "cell_type": "code",
   "execution_count": 47,
   "metadata": {
    "ExecuteTime": {
     "end_time": "2023-10-02T19:43:35.294613900Z",
     "start_time": "2023-10-02T19:43:35.139430400Z"
    }
   },
   "outputs": [],
   "source": [
    "countries = train['Country'].unique()"
   ]
  },
  {
   "cell_type": "code",
   "execution_count": 48,
   "metadata": {
    "ExecuteTime": {
     "end_time": "2023-10-02T19:43:35.294613900Z",
     "start_time": "2023-10-02T19:43:35.152635900Z"
    }
   },
   "outputs": [],
   "source": [
    "sudan_train = train[train['Country'] == 'Sudan']\n",
    "iran_train = train[train['Country'] == 'Iran  (Islamic Republic of)']\n",
    "afganistan_train = train[train['Country'] == 'Afghanistan']\n",
    "\n",
    "sudan_geodata = gpd.GeoDataFrame(sudan_train, geometry=gpd.points_from_xy(sudan_train.Lon, sudan_train.Lat))\n",
    "iran_geodata = gpd.GeoDataFrame(iran_train, geometry=gpd.points_from_xy(iran_train.Lon, iran_train.Lat))\n",
    "afganistan_geodata = gpd.GeoDataFrame(afganistan_train, geometry=gpd.points_from_xy(afganistan_train.Lon, afganistan_train.Lat))"
   ]
  },
  {
   "cell_type": "code",
   "execution_count": 49,
   "metadata": {
    "ExecuteTime": {
     "end_time": "2023-10-02T19:43:36.662249Z",
     "start_time": "2023-10-02T19:43:35.216834300Z"
    }
   },
   "outputs": [
    {
     "data": {
      "text/plain": "<Figure size 1000x1000 with 1 Axes>",
      "image/png": "[encoded data removed]"
     },
     "metadata": {},
     "output_type": "display_data"
    }
   ],
   "source": [
    "plt.figure(figsize=(10, 10))\n",
    "plot = sns.scatterplot(x='Lon', y='Lat', data=sudan_train, hue='Target', palette='husl')\n",
    "cx.add_basemap(plot, crs='EPSG:4326', source=cx.providers.OpenStreetMap.HOT)"
   ]
  },
  {
   "cell_type": "code",
   "execution_count": 50,
   "outputs": [
    {
     "data": {
      "application/vnd.plotly.v1+json": {
       "data": [
        {
         "hovertemplate": "Lat=%{lat}<br>Lon=%{lon}<br>Target=%{marker.color}<extra></extra>",
         "lat": [
          14.542826,
          14.35948,
          14.419128,
          14.204341,
          14.442394,
          14.399994,
          14.258599,
          14.303156,
          14.439071,
          14.251952,
          14.290849,
          14.159335,
          14.408438,
          14.227158,
          14.194819,
          14.284022,
          14.360468,
          14.323278,
          14.449581,
          14.427572,
          14.459912,
          14.369631,
          14.30603,
          14.206138,
          14.483268,
          14.529621,
          14.197963,
          14.186554,
          14.502851,
          14.460181,
          14.306749,
          14.560792,
          14.170834,
          14.362534,
          14.395772,
          14.299562,
          14.463235,
          14.19437,
          14.466649,
          14.418948,
          14.194459,
          14.317169,
          14.452995,
          14.367385,
          14.279889,
          14.29022,
          14.423889,
          14.405923,
          14.42326,
          14.210539,
          14.195178,
          14.303964,
          14.314025,
          14.406372,
          14.357324,
          14.478058,
          14.3699,
          14.283662,
          14.355438,
          14.395682,
          14.164186,
          14.489826,
          14.199221,
          14.428021,
          14.454971,
          14.331812,
          14.425147,
          14.174786,
          14.521177,
          14.465841,
          14.276026,
          14.343849,
          14.358941,
          14.558726,
          14.466829,
          14.351126,
          14.254826,
          14.221589,
          14.329117,
          14.119091,
          14.529262,
          14.272343,
          14.399904,
          14.27962,
          14.458295,
          14.406731,
          14.149364,
          14.426674,
          14.322919,
          14.242519,
          14.150083,
          14.385441,
          14.480483,
          14.292555,
          14.463056,
          14.13014,
          14.421643,
          14.186914,
          14.181524,
          14.282045,
          14.271715,
          14.233536,
          14.301988,
          14.490095,
          14.410325,
          14.518751,
          14.400713,
          14.189788,
          14.483178,
          14.201915,
          14.450479,
          14.198412,
          14.522345,
          14.237938,
          14.406282,
          14.321751,
          14.411672,
          14.350587,
          14.230212,
          14.179008,
          14.465122,
          14.323907,
          14.405025,
          14.31124,
          14.349509,
          14.414457,
          14.347892,
          14.464134,
          14.281147,
          14.251053,
          14.305851,
          14.420026,
          14.326422,
          14.432872,
          14.329925,
          14.421374,
          14.45003,
          14.409875,
          14.242879,
          14.547497,
          14.386789,
          14.237579,
          14.360738,
          14.128164,
          14.239824,
          14.389124,
          14.393077,
          14.408528,
          14.425955,
          14.424788,
          14.306839,
          14.531148,
          14.49279,
          14.378434,
          14.255365,
          14.273332,
          14.193381,
          14.451737,
          14.249975,
          14.404665,
          14.261564,
          14.44491,
          14.316271,
          14.312139,
          14.432333,
          14.386519,
          14.482639,
          14.452725,
          14.163468,
          14.360738,
          14.354899,
          14.366038,
          14.158796,
          14.424698,
          14.557379,
          14.195268,
          14.429638,
          14.445089,
          14.329027,
          14.237489,
          14.372955,
          14.113252,
          14.429099,
          14.110377,
          14.497551,
          14.179817,
          14.55693,
          14.513451,
          14.416254,
          14.518931,
          14.488568,
          14.349958,
          14.416882,
          14.441137,
          14.195987,
          14.305401,
          14.2153,
          14.30594,
          14.414008,
          14.459462,
          14.409426,
          14.410414,
          14.530519,
          14.450479,
          14.419128,
          14.449312,
          14.16778,
          14.387777,
          14.436286,
          14.423081,
          14.434669,
          14.227877,
          14.453803,
          14.382387,
          14.333609,
          14.37565,
          14.196885,
          14.273511,
          14.413289,
          14.225362,
          14.41787,
          14.292376,
          14.158527,
          14.201376,
          14.335046,
          14.162929,
          14.406642,
          14.155652,
          14.450839,
          14.30639,
          14.519111,
          14.310612,
          14.51435,
          14.423081,
          14.510846,
          14.426854,
          14.282045,
          14.519739,
          14.248089,
          14.407001,
          14.291567,
          14.512643,
          14.532316,
          14.245484,
          14.397928,
          14.407809,
          14.329297,
          14.264348,
          14.538694,
          14.292825,
          14.527645,
          14.102382,
          14.564835,
          14.449312,
          14.349958,
          14.445988,
          14.30064,
          14.259947,
          14.28465,
          14.446078,
          14.378794,
          14.370439,
          14.161581,
          14.251143,
          14.399994,
          14.209461,
          14.34367,
          14.317978,
          14.220151,
          14.451557,
          14.174427,
          14.520458,
          14.45551,
          14.199221,
          14.521716,
          14.208114,
          14.435927,
          14.136877,
          14.134093,
          14.333339,
          14.160773,
          14.269289,
          14.320224,
          14.491532,
          14.349688,
          14.323907,
          14.501773,
          14.504199,
          14.340526,
          14.465212,
          14.356785,
          14.314474,
          14.202724,
          14.453264,
          14.472129,
          14.386609,
          14.40224,
          14.270726,
          14.529621,
          14.195088,
          14.398557,
          14.402509,
          14.346095,
          14.393796,
          14.460361,
          14.385801,
          14.515787,
          14.230392,
          14.356066,
          14.155383,
          14.482909,
          14.464852,
          14.452995,
          14.390652,
          14.431435,
          14.131757,
          14.504827,
          14.308546,
          14.125828,
          14.377446,
          14.445539,
          14.323637,
          14.446078,
          14.307378,
          14.435298,
          14.424967,
          14.478776,
          14.12484,
          14.281327,
          14.449042,
          14.454432,
          14.425147,
          14.132386,
          14.515697,
          14.269559,
          14.29004,
          14.437544,
          14.204431,
          14.349688,
          14.142267,
          14.483986,
          14.199849,
          14.181524,
          14.396401,
          14.399096,
          14.501683,
          14.46081,
          14.493958,
          14.469254,
          14.429459,
          14.328578,
          14.329476,
          14.426764,
          14.5033,
          14.26354,
          14.169756,
          14.374212,
          14.229224,
          14.390831,
          14.412481,
          14.330824,
          14.291927,
          14.271984,
          14.42892,
          14.467547,
          14.393616,
          14.565194,
          14.199221,
          14.409875,
          14.387777,
          14.301718,
          14.270906,
          14.201376,
          14.39146,
          14.333609,
          14.287615,
          14.350227,
          14.406642,
          14.452096,
          14.260306,
          14.533753,
          14.261564,
          14.372146,
          14.499438,
          14.421554,
          14.426854,
          14.286627,
          14.286716,
          14.248808,
          14.174158,
          14.305401,
          14.352653,
          14.430357,
          14.142806,
          14.271535,
          14.463505,
          14.458654,
          14.53007,
          14.371697,
          14.346185,
          14.443832,
          14.244675,
          14.136428,
          14.328758,
          14.349688,
          14.121067,
          14.169756,
          14.403587,
          14.4503,
          14.191585,
          14.395502,
          14.169935,
          14.468446,
          14.163468,
          14.323188,
          14.190237,
          14.357414,
          14.399006,
          14.446527,
          14.454971,
          14.435298,
          14.505546,
          14.439969,
          14.495934,
          14.446976,
          14.483358,
          14.469793,
          14.232189,
          14.298844,
          14.165354,
          14.47698,
          14.355707,
          14.323278,
          14.230482,
          14.361277,
          14.345915,
          14.357953,
          14.217905,
          14.223565,
          14.443293,
          14.405653,
          14.326961,
          14.365678,
          14.470871,
          14.248628,
          14.266864,
          14.312768,
          14.112084,
          14.448593,
          14.516416,
          14.413199,
          14.379153,
          14.35427,
          14.423171,
          14.325164,
          14.371517,
          14.339448,
          14.126098,
          14.464134,
          14.427752,
          14.169217,
          14.16194,
          14.437544,
          14.37538,
          14.260216,
          14.444101,
          14.16203,
          14.423081,
          14.530968,
          14.251413,
          14.351395,
          14.377985,
          14.429908,
          14.44994,
          14.280428,
          14.561242,
          14.350856,
          14.346993,
          14.410235,
          14.451378,
          14.267403,
          14.260126,
          14.441855,
          14.415804,
          14.440957,
          14.342861,
          14.39667,
          14.255635,
          14.252311,
          14.283213,
          14.436106,
          14.164456,
          14.460091,
          14.401431,
          14.409157,
          14.514619,
          14.297676,
          14.195807,
          14.329207,
          14.179817
         ],
         "legendgroup": "",
         "lon": [
          33.313483,
          33.284108,
          33.52845,
          33.340792,
          33.292732,
          33.492967,
          33.425234,
          33.36882,
          33.301266,
          33.206045,
          33.316807,
          33.200565,
          33.32588,
          33.482636,
          33.38445,
          33.262998,
          33.157536,
          33.257249,
          33.143073,
          33.202541,
          33.229671,
          33.277551,
          33.22985,
          33.384899,
          33.263896,
          33.48039,
          33.263447,
          33.23515,
          33.323814,
          33.126903,
          33.329653,
          33.502848,
          33.396398,
          33.257518,
          33.535098,
          33.358669,
          33.190145,
          33.226976,
          33.213411,
          33.175951,
          33.379779,
          33.53923,
          33.233803,
          33.210806,
          33.331809,
          33.481199,
          33.244044,
          33.533032,
          33.200565,
          33.178646,
          33.42748,
          33.409513,
          33.53914,
          33.543811,
          33.378971,
          33.565281,
          33.300368,
          33.325161,
          33.233533,
          33.258956,
          33.367742,
          33.483445,
          33.364328,
          33.25123,
          33.218981,
          33.248445,
          33.199397,
          33.464041,
          33.433049,
          33.564023,
          33.340433,
          33.207123,
          33.272251,
          33.503926,
          33.3045,
          33.27234,
          33.244133,
          33.255991,
          33.557645,
          33.237935,
          33.449309,
          33.338816,
          33.360465,
          33.396218,
          33.407717,
          33.220777,
          33.243325,
          33.335672,
          33.265334,
          33.283569,
          33.361453,
          33.265962,
          33.24063,
          33.574174,
          33.127083,
          33.440505,
          33.500153,
          33.18754,
          33.340882,
          33.34717,
          33.260483,
          33.228323,
          33.329294,
          33.331899,
          33.265962,
          33.439427,
          33.51803,
          33.280695,
          33.515245,
          33.382564,
          33.529618,
          33.39523,
          33.227604,
          33.339355,
          33.369179,
          33.294349,
          33.466377,
          33.390469,
          33.267669,
          33.196882,
          33.407088,
          33.37906,
          33.511113,
          33.575971,
          33.220238,
          33.372053,
          33.191402,
          33.292822,
          33.216196,
          33.399452,
          33.199038,
          33.361633,
          33.248625,
          33.265154,
          33.558364,
          33.353818,
          33.1446,
          33.422539,
          33.298392,
          33.201014,
          33.527462,
          33.338906,
          33.198409,
          33.303243,
          33.221316,
          33.551806,
          33.437361,
          33.353009,
          33.521982,
          33.243415,
          33.573096,
          33.271442,
          33.212153,
          33.550639,
          33.262818,
          33.424515,
          33.327767,
          33.149631,
          33.180622,
          33.536266,
          33.459909,
          33.116393,
          33.534738,
          33.300637,
          33.205416,
          33.358489,
          33.323455,
          33.527552,
          33.369538,
          33.227604,
          33.210806,
          33.291475,
          33.269196,
          33.208291,
          33.440775,
          33.382474,
          33.366214,
          33.106152,
          33.251679,
          33.154122,
          33.278719,
          33.314202,
          33.207213,
          33.333426,
          33.266591,
          33.163824,
          33.440236,
          33.297853,
          33.327856,
          33.339894,
          33.375018,
          33.564652,
          33.176131,
          33.382833,
          33.382743,
          33.569593,
          33.276652,
          33.329653,
          33.37412,
          33.239193,
          33.214219,
          33.163285,
          33.450476,
          33.306476,
          33.240271,
          33.147115,
          33.4803,
          33.531504,
          33.244223,
          33.25114,
          33.227245,
          33.257069,
          33.147205,
          33.518299,
          33.376545,
          33.226167,
          33.382833,
          33.270544,
          33.372143,
          33.393344,
          33.529887,
          33.341331,
          33.387594,
          33.381126,
          33.252488,
          33.382025,
          33.237666,
          33.458921,
          33.184395,
          33.350853,
          33.330372,
          33.539589,
          33.548483,
          33.52306,
          33.301176,
          33.241977,
          33.34717,
          33.296056,
          33.255183,
          33.198858,
          33.451285,
          33.513448,
          33.253656,
          33.295248,
          33.328485,
          33.372053,
          33.250961,
          33.280515,
          33.470599,
          33.420922,
          33.285456,
          33.319233,
          33.499345,
          33.142624,
          33.564832,
          33.118459,
          33.331629,
          33.195355,
          33.393254,
          33.314292,
          33.234701,
          33.221047,
          33.359836,
          33.293541,
          33.492967,
          33.312316,
          33.347799,
          33.294439,
          33.458202,
          33.413825,
          33.370706,
          33.587919,
          33.210267,
          33.426042,
          33.225269,
          33.301715,
          33.212782,
          33.313573,
          33.310249,
          33.214758,
          33.388493,
          33.341331,
          33.269017,
          33.270724,
          33.306926,
          33.248535,
          33.392535,
          33.293361,
          33.220957,
          33.536445,
          33.235599,
          33.220328,
          33.282312,
          33.148014,
          33.260662,
          33.542015,
          33.508957,
          33.346721,
          33.480839,
          33.376186,
          33.551178,
          33.265873,
          33.296685,
          33.521174,
          33.575522,
          33.547584,
          33.172178,
          33.447961,
          33.25105,
          33.269915,
          33.511472,
          33.535188,
          33.286534,
          33.266951,
          33.318873,
          33.25662,
          33.590524,
          33.568785,
          33.360375,
          33.213501,
          33.117651,
          33.394422,
          33.11801,
          33.592051,
          33.22437,
          33.375647,
          33.178197,
          33.435654,
          33.326419,
          33.232545,
          33.564742,
          33.237486,
          33.354716,
          33.214938,
          33.279527,
          33.226706,
          33.226886,
          33.21952,
          33.255362,
          33.323005,
          33.510304,
          33.392355,
          33.531684,
          33.253835,
          33.222304,
          33.38445,
          33.12852,
          33.358938,
          33.597441,
          33.420293,
          33.580463,
          33.557556,
          33.207123,
          33.413556,
          33.250511,
          33.399811,
          33.50707,
          33.428288,
          33.267759,
          33.168136,
          33.557825,
          33.572917,
          33.286803,
          33.316448,
          33.21916,
          33.537254,
          33.469341,
          33.425952,
          33.21916,
          33.216555,
          33.241528,
          33.521264,
          33.273329,
          33.26749,
          33.540847,
          33.325072,
          33.565371,
          33.369628,
          33.147385,
          33.306027,
          33.222484,
          33.308812,
          33.277461,
          33.327767,
          33.500602,
          33.209458,
          33.351572,
          33.201823,
          33.332528,
          33.489733,
          33.569593,
          33.236677,
          33.252847,
          33.232725,
          33.338816,
          33.3204,
          33.573546,
          33.449668,
          33.293002,
          33.224281,
          33.300458,
          33.280425,
          33.311597,
          33.557825,
          33.255991,
          33.481289,
          33.401339,
          33.530157,
          33.529169,
          33.391637,
          33.21377,
          33.216016,
          33.556208,
          33.383821,
          33.258327,
          33.392266,
          33.265962,
          33.21934,
          33.118818,
          33.352111,
          33.242427,
          33.337648,
          33.364328,
          33.389301,
          33.176311,
          33.26174,
          33.440864,
          33.290756,
          33.333426,
          33.364867,
          33.300278,
          33.314202,
          33.396757,
          33.24602,
          33.21404,
          33.189426,
          33.378791,
          33.445626,
          33.249074,
          33.24602,
          33.419485,
          33.264256,
          33.258147,
          33.237845,
          33.255362,
          33.249433,
          33.312136,
          33.34735,
          33.282671,
          33.589266,
          33.225089,
          33.538781,
          33.226976,
          33.332617,
          33.273868,
          33.483175,
          33.252847,
          33.458112,
          33.285725,
          33.279527,
          33.341511,
          33.372952,
          33.380048,
          33.520725,
          33.333875,
          33.117112,
          33.370706,
          33.359118,
          33.449937,
          33.244852,
          33.241708,
          33.523869,
          33.419574,
          33.146576,
          33.278808,
          33.46449,
          33.186551,
          33.38975,
          33.182689,
          33.145409,
          33.434756,
          33.306566,
          33.224281,
          33.16571,
          33.199487,
          33.280066,
          33.225808,
          33.281863,
          33.227245,
          33.218442,
          33.491619,
          33.365945,
          33.201733,
          33.508418,
          33.369808,
          33.547944,
          33.332887,
          33.383462,
          33.253206,
          33.179275
         ],
         "marker": {
          "color": [
           1,
           1,
           0,
           0,
           1,
           1,
           0,
           1,
           0,
           1,
           1,
           0,
           0,
           1,
           0,
           1,
           0,
           0,
           0,
           1,
           1,
           1,
           1,
           0,
           1,
           0,
           1,
           0,
           1,
           0,
           1,
           0,
           0,
           1,
           0,
           1,
           1,
           1,
           1,
           1,
           0,
           0,
           1,
           1,
           1,
           1,
           1,
           0,
           1,
           1,
           0,
           0,
           0,
           0,
           1,
           0,
           1,
           1,
           1,
           1,
           0,
           0,
           0,
           1,
           1,
           0,
           1,
           1,
           1,
           1,
           1,
           1,
           0,
           0,
           1,
           1,
           1,
           1,
           0,
           0,
           0,
           1,
           1,
           0,
           0,
           0,
           0,
           1,
           0,
           1,
           0,
           1,
           0,
           0,
           0,
           1,
           0,
           0,
           1,
           1,
           1,
           1,
           1,
           1,
           1,
           1,
           0,
           1,
           0,
           0,
           0,
           0,
           0,
           0,
           0,
           1,
           0,
           1,
           1,
           0,
           0,
           1,
           0,
           1,
           1,
           0,
           0,
           1,
           1,
           0,
           0,
           1,
           0,
           0,
           0,
           1,
           0,
           1,
           1,
           1,
           0,
           0,
           1,
           0,
           1,
           0,
           0,
           0,
           0,
           1,
           1,
           0,
           1,
           0,
           1,
           1,
           1,
           0,
           1,
           0,
           1,
           0,
           0,
           1,
           1,
           1,
           1,
           0,
           0,
           1,
           1,
           1,
           0,
           1,
           0,
           0,
           1,
           0,
           0,
           1,
           1,
           0,
           1,
           1,
           1,
           0,
           0,
           0,
           0,
           0,
           1,
           0,
           1,
           1,
           0,
           1,
           0,
           1,
           0,
           1,
           1,
           0,
           0,
           1,
           1,
           0,
           1,
           0,
           0,
           0,
           1,
           0,
           0,
           0,
           1,
           1,
           0,
           1,
           0,
           0,
           0,
           0,
           0,
           0,
           0,
           0,
           1,
           1,
           1,
           1,
           0,
           0,
           0,
           0,
           0,
           1,
           1,
           1,
           1,
           1,
           1,
           0,
           0,
           1,
           0,
           0,
           0,
           1,
           1,
           1,
           1,
           0,
           0,
           0,
           0,
           0,
           1,
           1,
           0,
           1,
           0,
           1,
           0,
           0,
           1,
           0,
           1,
           1,
           0,
           0,
           0,
           0,
           1,
           0,
           0,
           1,
           1,
           0,
           0,
           0,
           0,
           1,
           0,
           1,
           1,
           0,
           0,
           1,
           1,
           1,
           1,
           1,
           1,
           0,
           1,
           0,
           0,
           1,
           0,
           0,
           0,
           1,
           1,
           0,
           0,
           0,
           1,
           1,
           1,
           0,
           0,
           1,
           0,
           1,
           1,
           0,
           0,
           1,
           0,
           1,
           0,
           1,
           0,
           1,
           1,
           1,
           1,
           1,
           1,
           1,
           0,
           1,
           0,
           0,
           1,
           1,
           1,
           1,
           1,
           1,
           0,
           0,
           1,
           1,
           1,
           1,
           0,
           0,
           1,
           1,
           1,
           0,
           1,
           1,
           1,
           0,
           0,
           0,
           1,
           0,
           0,
           0,
           1,
           1,
           1,
           0,
           0,
           0,
           0,
           1,
           1,
           1,
           1,
           1,
           0,
           1,
           0,
           0,
           0,
           0,
           0,
           0,
           1,
           1,
           0,
           0,
           0,
           1,
           0,
           1,
           1,
           1,
           1,
           0,
           1,
           0,
           0,
           0,
           1,
           1,
           1,
           1,
           0,
           0,
           1,
           1,
           0,
           0,
           0,
           0,
           1,
           1,
           1,
           0,
           0,
           0,
           0,
           1,
           0,
           1,
           0,
           1,
           1,
           1,
           1,
           0,
           0,
           1,
           1,
           0,
           1,
           0,
           1,
           1,
           0,
           0,
           1,
           0,
           1,
           0,
           0,
           0,
           1,
           1,
           1,
           1,
           1,
           0,
           0,
           0,
           1,
           0,
           1,
           1,
           0,
           0,
           0,
           1,
           1,
           0,
           0,
           0,
           1,
           0,
           1,
           0,
           0,
           1,
           0,
           1,
           1,
           0,
           1,
           0,
           1,
           0,
           0,
           1,
           1,
           0,
           0,
           0,
           1,
           0,
           1,
           0,
           0,
           1,
           1,
           1,
           0,
           0,
           1,
           0,
           0,
           0,
           1,
           0,
           0,
           0
          ],
          "coloraxis": "coloraxis"
         },
         "mode": "markers",
         "name": "",
         "showlegend": false,
         "subplot": "mapbox",
         "type": "scattermapbox"
        }
       ],
       "layout": {
        "template": {
         "data": {
          "histogram2dcontour": [
           {
            "type": "histogram2dcontour",
            "colorbar": {
             "outlinewidth": 0,
             "ticks": ""
            },
            "colorscale": [
             [
              0.0,
              "#0d0887"
             ],
             [
              0.1111111111111111,
              "#46039f"
             ],
             [
              0.2222222222222222,
              "#7201a8"
             ],
             [
              0.3333333333333333,
              "#9c179e"
             ],
             [
              0.4444444444444444,
              "#bd3786"
             ],
             [
              0.5555555555555556,
              "#d8576b"
             ],
             [
              0.6666666666666666,
              "#ed7953"
             ],
             [
              0.7777777777777778,
              "#fb9f3a"
             ],
             [
              0.8888888888888888,
              "#fdca26"
             ],
             [
              1.0,
              "#f0f921"
             ]
            ]
           }
          ],
          "choropleth": [
           {
            "type": "choropleth",
            "colorbar": {
             "outlinewidth": 0,
             "ticks": ""
            }
           }
          ],
          "histogram2d": [
           {
            "type": "histogram2d",
            "colorbar": {
             "outlinewidth": 0,
             "ticks": ""
            },
            "colorscale": [
             [
              0.0,
              "#0d0887"
             ],
             [
              0.1111111111111111,
              "#46039f"
             ],
             [
              0.2222222222222222,
              "#7201a8"
             ],
             [
              0.3333333333333333,
              "#9c179e"
             ],
             [
              0.4444444444444444,
              "#bd3786"
             ],
             [
              0.5555555555555556,
              "#d8576b"
             ],
             [
              0.6666666666666666,
              "#ed7953"
             ],
             [
              0.7777777777777778,
              "#fb9f3a"
             ],
             [
              0.8888888888888888,
              "#fdca26"
             ],
             [
              1.0,
              "#f0f921"
             ]
            ]
           }
          ],
          "heatmap": [
           {
            "type": "heatmap",
            "colorbar": {
             "outlinewidth": 0,
             "ticks": ""
            },
            "colorscale": [
             [
              0.0,
              "#0d0887"
             ],
             [
              0.1111111111111111,
              "#46039f"
             ],
             [
              0.2222222222222222,
              "#7201a8"
             ],
             [
              0.3333333333333333,
              "#9c179e"
             ],
             [
              0.4444444444444444,
              "#bd3786"
             ],
             [
              0.5555555555555556,
              "#d8576b"
             ],
             [
              0.6666666666666666,
              "#ed7953"
             ],
             [
              0.7777777777777778,
              "#fb9f3a"
             ],
             [
              0.8888888888888888,
              "#fdca26"
             ],
             [
              1.0,
              "#f0f921"
             ]
            ]
           }
          ],
          "heatmapgl": [
           {
            "type": "heatmapgl",
            "colorbar": {
             "outlinewidth": 0,
             "ticks": ""
            },
            "colorscale": [
             [
              0.0,
              "#0d0887"
             ],
             [
              0.1111111111111111,
              "#46039f"
             ],
             [
              0.2222222222222222,
              "#7201a8"
             ],
             [
              0.3333333333333333,
              "#9c179e"
             ],
             [
              0.4444444444444444,
              "#bd3786"
             ],
             [
              0.5555555555555556,
              "#d8576b"
             ],
             [
              0.6666666666666666,
              "#ed7953"
             ],
             [
              0.7777777777777778,
              "#fb9f3a"
             ],
             [
              0.8888888888888888,
              "#fdca26"
             ],
             [
              1.0,
              "#f0f921"
             ]
            ]
           }
          ],
          "contourcarpet": [
           {
            "type": "contourcarpet",
            "colorbar": {
             "outlinewidth": 0,
             "ticks": ""
            }
           }
          ],
          "contour": [
           {
            "type": "contour",
            "colorbar": {
             "outlinewidth": 0,
             "ticks": ""
            },
            "colorscale": [
             [
              0.0,
              "#0d0887"
             ],
             [
              0.1111111111111111,
              "#46039f"
             ],
             [
              0.2222222222222222,
              "#7201a8"
             ],
             [
              0.3333333333333333,
              "#9c179e"
             ],
             [
              0.4444444444444444,
              "#bd3786"
             ],
             [
              0.5555555555555556,
              "#d8576b"
             ],
             [
              0.6666666666666666,
              "#ed7953"
             ],
             [
              0.7777777777777778,
              "#fb9f3a"
             ],
             [
              0.8888888888888888,
              "#fdca26"
             ],
             [
              1.0,
              "#f0f921"
             ]
            ]
           }
          ],
          "surface": [
           {
            "type": "surface",
            "colorbar": {
             "outlinewidth": 0,
             "ticks": ""
            },
            "colorscale": [
             [
              0.0,
              "#0d0887"
             ],
             [
              0.1111111111111111,
              "#46039f"
             ],
             [
              0.2222222222222222,
              "#7201a8"
             ],
             [
              0.3333333333333333,
              "#9c179e"
             ],
             [
              0.4444444444444444,
              "#bd3786"
             ],
             [
              0.5555555555555556,
              "#d8576b"
             ],
             [
              0.6666666666666666,
              "#ed7953"
             ],
             [
              0.7777777777777778,
              "#fb9f3a"
             ],
             [
              0.8888888888888888,
              "#fdca26"
             ],
             [
              1.0,
              "#f0f921"
             ]
            ]
           }
          ],
          "mesh3d": [
           {
            "type": "mesh3d",
            "colorbar": {
             "outlinewidth": 0,
             "ticks": ""
            }
           }
          ],
          "scatter": [
           {
            "marker": {
             "line": {
              "color": "#283442"
             }
            },
            "type": "scatter"
           }
          ],
          "parcoords": [
           {
            "type": "parcoords",
            "line": {
             "colorbar": {
              "outlinewidth": 0,
              "ticks": ""
             }
            }
           }
          ],
          "scatterpolargl": [
           {
            "type": "scatterpolargl",
            "marker": {
             "colorbar": {
              "outlinewidth": 0,
              "ticks": ""
             }
            }
           }
          ],
          "bar": [
           {
            "error_x": {
             "color": "#f2f5fa"
            },
            "error_y": {
             "color": "#f2f5fa"
            },
            "marker": {
             "line": {
              "color": "rgb(17,17,17)",
              "width": 0.5
             },
             "pattern": {
              "fillmode": "overlay",
              "size": 10,
              "solidity": 0.2
             }
            },
            "type": "bar"
           }
          ],
          "scattergeo": [
           {
            "type": "scattergeo",
            "marker": {
             "colorbar": {
              "outlinewidth": 0,
              "ticks": ""
             }
            }
           }
          ],
          "scatterpolar": [
           {
            "type": "scatterpolar",
            "marker": {
             "colorbar": {
              "outlinewidth": 0,
              "ticks": ""
             }
            }
           }
          ],
          "histogram": [
           {
            "marker": {
             "pattern": {
              "fillmode": "overlay",
              "size": 10,
              "solidity": 0.2
             }
            },
            "type": "histogram"
           }
          ],
          "scattergl": [
           {
            "marker": {
             "line": {
              "color": "#283442"
             }
            },
            "type": "scattergl"
           }
          ],
          "scatter3d": [
           {
            "type": "scatter3d",
            "line": {
             "colorbar": {
              "outlinewidth": 0,
              "ticks": ""
             }
            },
            "marker": {
             "colorbar": {
              "outlinewidth": 0,
              "ticks": ""
             }
            }
           }
          ],
          "scattermapbox": [
           {
            "type": "scattermapbox",
            "marker": {
             "colorbar": {
              "outlinewidth": 0,
              "ticks": ""
             }
            }
           }
          ],
          "scatterternary": [
           {
            "type": "scatterternary",
            "marker": {
             "colorbar": {
              "outlinewidth": 0,
              "ticks": ""
             }
            }
           }
          ],
          "scattercarpet": [
           {
            "type": "scattercarpet",
            "marker": {
             "colorbar": {
              "outlinewidth": 0,
              "ticks": ""
             }
            }
           }
          ],
          "carpet": [
           {
            "aaxis": {
             "endlinecolor": "#A2B1C6",
             "gridcolor": "#506784",
             "linecolor": "#506784",
             "minorgridcolor": "#506784",
             "startlinecolor": "#A2B1C6"
            },
            "baxis": {
             "endlinecolor": "#A2B1C6",
             "gridcolor": "#506784",
             "linecolor": "#506784",
             "minorgridcolor": "#506784",
             "startlinecolor": "#A2B1C6"
            },
            "type": "carpet"
           }
          ],
          "table": [
           {
            "cells": {
             "fill": {
              "color": "#506784"
             },
             "line": {
              "color": "rgb(17,17,17)"
             }
            },
            "header": {
             "fill": {
              "color": "#2a3f5f"
             },
             "line": {
              "color": "rgb(17,17,17)"
             }
            },
            "type": "table"
           }
          ],
          "barpolar": [
           {
            "marker": {
             "line": {
              "color": "rgb(17,17,17)",
              "width": 0.5
             },
             "pattern": {
              "fillmode": "overlay",
              "size": 10,
              "solidity": 0.2
             }
            },
            "type": "barpolar"
           }
          ],
          "pie": [
           {
            "automargin": true,
            "type": "pie"
           }
          ]
         },
         "layout": {
          "autotypenumbers": "strict",
          "colorway": [
           "#636efa",
           "#EF553B",
           "#00cc96",
           "#ab63fa",
           "#FFA15A",
           "#19d3f3",
           "#FF6692",
           "#B6E880",
           "#FF97FF",
           "#FECB52"
          ],
          "font": {
           "color": "#f2f5fa"
          },
          "hovermode": "closest",
          "hoverlabel": {
           "align": "left"
          },
          "paper_bgcolor": "rgb(17,17,17)",
          "plot_bgcolor": "rgb(17,17,17)",
          "polar": {
           "bgcolor": "rgb(17,17,17)",
           "angularaxis": {
            "gridcolor": "#506784",
            "linecolor": "#506784",
            "ticks": ""
           },
           "radialaxis": {
            "gridcolor": "#506784",
            "linecolor": "#506784",
            "ticks": ""
           }
          },
          "ternary": {
           "bgcolor": "rgb(17,17,17)",
           "aaxis": {
            "gridcolor": "#506784",
            "linecolor": "#506784",
            "ticks": ""
           },
           "baxis": {
            "gridcolor": "#506784",
            "linecolor": "#506784",
            "ticks": ""
           },
           "caxis": {
            "gridcolor": "#506784",
            "linecolor": "#506784",
            "ticks": ""
           }
          },
          "coloraxis": {
           "colorbar": {
            "outlinewidth": 0,
            "ticks": ""
           }
          },
          "colorscale": {
           "sequential": [
            [
             0.0,
             "#0d0887"
            ],
            [
             0.1111111111111111,
             "#46039f"
            ],
            [
             0.2222222222222222,
             "#7201a8"
            ],
            [
             0.3333333333333333,
             "#9c179e"
            ],
            [
             0.4444444444444444,
             "#bd3786"
            ],
            [
             0.5555555555555556,
             "#d8576b"
            ],
            [
             0.6666666666666666,
             "#ed7953"
            ],
            [
             0.7777777777777778,
             "#fb9f3a"
            ],
            [
             0.8888888888888888,
             "#fdca26"
            ],
            [
             1.0,
             "#f0f921"
            ]
           ],
           "sequentialminus": [
            [
             0.0,
             "#0d0887"
            ],
            [
             0.1111111111111111,
             "#46039f"
            ],
            [
             0.2222222222222222,
             "#7201a8"
            ],
            [
             0.3333333333333333,
             "#9c179e"
            ],
            [
             0.4444444444444444,
             "#bd3786"
            ],
            [
             0.5555555555555556,
             "#d8576b"
            ],
            [
             0.6666666666666666,
             "#ed7953"
            ],
            [
             0.7777777777777778,
             "#fb9f3a"
            ],
            [
             0.8888888888888888,
             "#fdca26"
            ],
            [
             1.0,
             "#f0f921"
            ]
           ],
           "diverging": [
            [
             0,
             "#8e0152"
            ],
            [
             0.1,
             "#c51b7d"
            ],
            [
             0.2,
             "#de77ae"
            ],
            [
             0.3,
             "#f1b6da"
            ],
            [
             0.4,
             "#fde0ef"
            ],
            [
             0.5,
             "#f7f7f7"
            ],
            [
             0.6,
             "#e6f5d0"
            ],
            [
             0.7,
             "#b8e186"
            ],
            [
             0.8,
             "#7fbc41"
            ],
            [
             0.9,
             "#4d9221"
            ],
            [
             1,
             "#276419"
            ]
           ]
          },
          "xaxis": {
           "gridcolor": "#283442",
           "linecolor": "#506784",
           "ticks": "",
           "title": {
            "standoff": 15
           },
           "zerolinecolor": "#283442",
           "automargin": true,
           "zerolinewidth": 2
          },
          "yaxis": {
           "gridcolor": "#283442",
           "linecolor": "#506784",
           "ticks": "",
           "title": {
            "standoff": 15
           },
           "zerolinecolor": "#283442",
           "automargin": true,
           "zerolinewidth": 2
          },
          "scene": {
           "xaxis": {
            "backgroundcolor": "rgb(17,17,17)",
            "gridcolor": "#506784",
            "linecolor": "#506784",
            "showbackground": true,
            "ticks": "",
            "zerolinecolor": "#C8D4E3",
            "gridwidth": 2
           },
           "yaxis": {
            "backgroundcolor": "rgb(17,17,17)",
            "gridcolor": "#506784",
            "linecolor": "#506784",
            "showbackground": true,
            "ticks": "",
            "zerolinecolor": "#C8D4E3",
            "gridwidth": 2
           },
           "zaxis": {
            "backgroundcolor": "rgb(17,17,17)",
            "gridcolor": "#506784",
            "linecolor": "#506784",
            "showbackground": true,
            "ticks": "",
            "zerolinecolor": "#C8D4E3",
            "gridwidth": 2
           }
          },
          "shapedefaults": {
           "line": {
            "color": "#f2f5fa"
           }
          },
          "annotationdefaults": {
           "arrowcolor": "#f2f5fa",
           "arrowhead": 0,
           "arrowwidth": 1
          },
          "geo": {
           "bgcolor": "rgb(17,17,17)",
           "landcolor": "rgb(17,17,17)",
           "subunitcolor": "#506784",
           "showland": true,
           "showlakes": true,
           "lakecolor": "rgb(17,17,17)"
          },
          "title": {
           "x": 0.05
          },
          "updatemenudefaults": {
           "bgcolor": "#506784",
           "borderwidth": 0
          },
          "sliderdefaults": {
           "bgcolor": "#C8D4E3",
           "borderwidth": 1,
           "bordercolor": "rgb(17,17,17)",
           "tickwidth": 0
          },
          "mapbox": {
           "style": "dark"
          }
         }
        },
        "mapbox": {
         "domain": {
          "x": [
           0.0,
           1.0
          ],
          "y": [
           0.0,
           1.0
          ]
         },
         "center": {
          "lat": 14.351939365999998,
          "lon": 33.33568501199999
         },
         "zoom": 9,
         "style": "open-street-map"
        },
        "coloraxis": {
         "colorbar": {
          "title": {
           "text": "Target"
          }
         },
         "colorscale": [
          [
           0.0,
           "#0d0887"
          ],
          [
           0.1111111111111111,
           "#46039f"
          ],
          [
           0.2222222222222222,
           "#7201a8"
          ],
          [
           0.3333333333333333,
           "#9c179e"
          ],
          [
           0.4444444444444444,
           "#bd3786"
          ],
          [
           0.5555555555555556,
           "#d8576b"
          ],
          [
           0.6666666666666666,
           "#ed7953"
          ],
          [
           0.7777777777777778,
           "#fb9f3a"
          ],
          [
           0.8888888888888888,
           "#fdca26"
          ],
          [
           1.0,
           "#f0f921"
          ]
         ]
        },
        "legend": {
         "tracegroupgap": 0
        },
        "margin": {
         "t": 0,
         "r": 0,
         "l": 0,
         "b": 0
        },
        "height": 600
       },
       "config": {
        "plotlyServerURL": "https://plot.ly"
       }
      },
      "text/html": "<div>                            <div id=\"d22e1d9b-9479-4bb9-8a69-8107ea01d4c5\" class=\"plotly-graph-div\" style=\"height:600px; width:100%;\"></div>            <script type=\"text/javascript\">                require([\"plotly\"], function(Plotly) {                    window.PLOTLYENV=window.PLOTLYENV || {};                                    if (document.getElementById(\"d22e1d9b-9479-4bb9-8a69-8107ea01d4c5\")) {                    Plotly.newPlot(                        \"d22e1d9b-9479-4bb9-8a69-8107ea01d4c5\",                        [{\"hovertemplate\":\"Lat=%{lat}<br>Lon=%{lon}<br>Target=%{marker.color}<extra></extra>\",\"lat\":[14.542826,14.35948,14.419128,14.204341,14.442394,14.399994,14.258599,14.303156,14.439071,14.251952,14.290849,14.159335,14.408438,14.227158,14.194819,14.284022,14.360468,14.323278,14.449581,14.427572,14.459912,14.369631,14.30603,14.206138,14.483268,14.529621,14.197963,14.186554,14.502851,14.460181,14.306749,14.560792,14.170834,14.362534,14.395772,14.299562,14.463235,14.19437,14.466649,14.418948,14.194459,14.317169,14.452995,14.367385,14.279889,14.29022,14.423889,14.405923,14.42326,14.210539,14.195178,14.303964,14.314025,14.406372,14.357324,14.478058,14.3699,14.283662,14.355438,14.395682,14.164186,14.489826,14.199221,14.428021,14.454971,14.331812,14.425147,14.174786,14.521177,14.465841,14.276026,14.343849,14.358941,14.558726,14.466829,14.351126,14.254826,14.221589,14.329117,14.119091,14.529262,14.272343,14.399904,14.27962,14.458295,14.406731,14.149364,14.426674,14.322919,14.242519,14.150083,14.385441,14.480483,14.292555,14.463056,14.13014,14.421643,14.186914,14.181524,14.282045,14.271715,14.233536,14.301988,14.490095,14.410325,14.518751,14.400713,14.189788,14.483178,14.201915,14.450479,14.198412,14.522345,14.237938,14.406282,14.321751,14.411672,14.350587,14.230212,14.179008,14.465122,14.323907,14.405025,14.31124,14.349509,14.414457,14.347892,14.464134,14.281147,14.251053,14.305851,14.420026,14.326422,14.432872,14.329925,14.421374,14.45003,14.409875,14.242879,14.547497,14.386789,14.237579,14.360738,14.128164,14.239824,14.389124,14.393077,14.408528,14.425955,14.424788,14.306839,14.531148,14.49279,14.378434,14.255365,14.273332,14.193381,14.451737,14.249975,14.404665,14.261564,14.44491,14.316271,14.312139,14.432333,14.386519,14.482639,14.452725,14.163468,14.360738,14.354899,14.366038,14.158796,14.424698,14.557379,14.195268,14.429638,14.445089,14.329027,14.237489,14.372955,14.113252,14.429099,14.110377,14.497551,14.179817,14.55693,14.513451,14.416254,14.518931,14.488568,14.349958,14.416882,14.441137,14.195987,14.305401,14.2153,14.30594,14.414008,14.459462,14.409426,14.410414,14.530519,14.450479,14.419128,14.449312,14.16778,14.387777,14.436286,14.423081,14.434669,14.227877,14.453803,14.382387,14.333609,14.37565,14.196885,14.273511,14.413289,14.225362,14.41787,14.292376,14.158527,14.201376,14.335046,14.162929,14.406642,14.155652,14.450839,14.30639,14.519111,14.310612,14.51435,14.423081,14.510846,14.426854,14.282045,14.519739,14.248089,14.407001,14.291567,14.512643,14.532316,14.245484,14.397928,14.407809,14.329297,14.264348,14.538694,14.292825,14.527645,14.102382,14.564835,14.449312,14.349958,14.445988,14.30064,14.259947,14.28465,14.446078,14.378794,14.370439,14.161581,14.251143,14.399994,14.209461,14.34367,14.317978,14.220151,14.451557,14.174427,14.520458,14.45551,14.199221,14.521716,14.208114,14.435927,14.136877,14.134093,14.333339,14.160773,14.269289,14.320224,14.491532,14.349688,14.323907,14.501773,14.504199,14.340526,14.465212,14.356785,14.314474,14.202724,14.453264,14.472129,14.386609,14.40224,14.270726,14.529621,14.195088,14.398557,14.402509,14.346095,14.393796,14.460361,14.385801,14.515787,14.230392,14.356066,14.155383,14.482909,14.464852,14.452995,14.390652,14.431435,14.131757,14.504827,14.308546,14.125828,14.377446,14.445539,14.323637,14.446078,14.307378,14.435298,14.424967,14.478776,14.12484,14.281327,14.449042,14.454432,14.425147,14.132386,14.515697,14.269559,14.29004,14.437544,14.204431,14.349688,14.142267,14.483986,14.199849,14.181524,14.396401,14.399096,14.501683,14.46081,14.493958,14.469254,14.429459,14.328578,14.329476,14.426764,14.5033,14.26354,14.169756,14.374212,14.229224,14.390831,14.412481,14.330824,14.291927,14.271984,14.42892,14.467547,14.393616,14.565194,14.199221,14.409875,14.387777,14.301718,14.270906,14.201376,14.39146,14.333609,14.287615,14.350227,14.406642,14.452096,14.260306,14.533753,14.261564,14.372146,14.499438,14.421554,14.426854,14.286627,14.286716,14.248808,14.174158,14.305401,14.352653,14.430357,14.142806,14.271535,14.463505,14.458654,14.53007,14.371697,14.346185,14.443832,14.244675,14.136428,14.328758,14.349688,14.121067,14.169756,14.403587,14.4503,14.191585,14.395502,14.169935,14.468446,14.163468,14.323188,14.190237,14.357414,14.399006,14.446527,14.454971,14.435298,14.505546,14.439969,14.495934,14.446976,14.483358,14.469793,14.232189,14.298844,14.165354,14.47698,14.355707,14.323278,14.230482,14.361277,14.345915,14.357953,14.217905,14.223565,14.443293,14.405653,14.326961,14.365678,14.470871,14.248628,14.266864,14.312768,14.112084,14.448593,14.516416,14.413199,14.379153,14.35427,14.423171,14.325164,14.371517,14.339448,14.126098,14.464134,14.427752,14.169217,14.16194,14.437544,14.37538,14.260216,14.444101,14.16203,14.423081,14.530968,14.251413,14.351395,14.377985,14.429908,14.44994,14.280428,14.561242,14.350856,14.346993,14.410235,14.451378,14.267403,14.260126,14.441855,14.415804,14.440957,14.342861,14.39667,14.255635,14.252311,14.283213,14.436106,14.164456,14.460091,14.401431,14.409157,14.514619,14.297676,14.195807,14.329207,14.179817],\"legendgroup\":\"\",\"lon\":[33.313483,33.284108,33.52845,33.340792,33.292732,33.492967,33.425234,33.36882,33.301266,33.206045,33.316807,33.200565,33.32588,33.482636,33.38445,33.262998,33.157536,33.257249,33.143073,33.202541,33.229671,33.277551,33.22985,33.384899,33.263896,33.48039,33.263447,33.23515,33.323814,33.126903,33.329653,33.502848,33.396398,33.257518,33.535098,33.358669,33.190145,33.226976,33.213411,33.175951,33.379779,33.53923,33.233803,33.210806,33.331809,33.481199,33.244044,33.533032,33.200565,33.178646,33.42748,33.409513,33.53914,33.543811,33.378971,33.565281,33.300368,33.325161,33.233533,33.258956,33.367742,33.483445,33.364328,33.25123,33.218981,33.248445,33.199397,33.464041,33.433049,33.564023,33.340433,33.207123,33.272251,33.503926,33.3045,33.27234,33.244133,33.255991,33.557645,33.237935,33.449309,33.338816,33.360465,33.396218,33.407717,33.220777,33.243325,33.335672,33.265334,33.283569,33.361453,33.265962,33.24063,33.574174,33.127083,33.440505,33.500153,33.18754,33.340882,33.34717,33.260483,33.228323,33.329294,33.331899,33.265962,33.439427,33.51803,33.280695,33.515245,33.382564,33.529618,33.39523,33.227604,33.339355,33.369179,33.294349,33.466377,33.390469,33.267669,33.196882,33.407088,33.37906,33.511113,33.575971,33.220238,33.372053,33.191402,33.292822,33.216196,33.399452,33.199038,33.361633,33.248625,33.265154,33.558364,33.353818,33.1446,33.422539,33.298392,33.201014,33.527462,33.338906,33.198409,33.303243,33.221316,33.551806,33.437361,33.353009,33.521982,33.243415,33.573096,33.271442,33.212153,33.550639,33.262818,33.424515,33.327767,33.149631,33.180622,33.536266,33.459909,33.116393,33.534738,33.300637,33.205416,33.358489,33.323455,33.527552,33.369538,33.227604,33.210806,33.291475,33.269196,33.208291,33.440775,33.382474,33.366214,33.106152,33.251679,33.154122,33.278719,33.314202,33.207213,33.333426,33.266591,33.163824,33.440236,33.297853,33.327856,33.339894,33.375018,33.564652,33.176131,33.382833,33.382743,33.569593,33.276652,33.329653,33.37412,33.239193,33.214219,33.163285,33.450476,33.306476,33.240271,33.147115,33.4803,33.531504,33.244223,33.25114,33.227245,33.257069,33.147205,33.518299,33.376545,33.226167,33.382833,33.270544,33.372143,33.393344,33.529887,33.341331,33.387594,33.381126,33.252488,33.382025,33.237666,33.458921,33.184395,33.350853,33.330372,33.539589,33.548483,33.52306,33.301176,33.241977,33.34717,33.296056,33.255183,33.198858,33.451285,33.513448,33.253656,33.295248,33.328485,33.372053,33.250961,33.280515,33.470599,33.420922,33.285456,33.319233,33.499345,33.142624,33.564832,33.118459,33.331629,33.195355,33.393254,33.314292,33.234701,33.221047,33.359836,33.293541,33.492967,33.312316,33.347799,33.294439,33.458202,33.413825,33.370706,33.587919,33.210267,33.426042,33.225269,33.301715,33.212782,33.313573,33.310249,33.214758,33.388493,33.341331,33.269017,33.270724,33.306926,33.248535,33.392535,33.293361,33.220957,33.536445,33.235599,33.220328,33.282312,33.148014,33.260662,33.542015,33.508957,33.346721,33.480839,33.376186,33.551178,33.265873,33.296685,33.521174,33.575522,33.547584,33.172178,33.447961,33.25105,33.269915,33.511472,33.535188,33.286534,33.266951,33.318873,33.25662,33.590524,33.568785,33.360375,33.213501,33.117651,33.394422,33.11801,33.592051,33.22437,33.375647,33.178197,33.435654,33.326419,33.232545,33.564742,33.237486,33.354716,33.214938,33.279527,33.226706,33.226886,33.21952,33.255362,33.323005,33.510304,33.392355,33.531684,33.253835,33.222304,33.38445,33.12852,33.358938,33.597441,33.420293,33.580463,33.557556,33.207123,33.413556,33.250511,33.399811,33.50707,33.428288,33.267759,33.168136,33.557825,33.572917,33.286803,33.316448,33.21916,33.537254,33.469341,33.425952,33.21916,33.216555,33.241528,33.521264,33.273329,33.26749,33.540847,33.325072,33.565371,33.369628,33.147385,33.306027,33.222484,33.308812,33.277461,33.327767,33.500602,33.209458,33.351572,33.201823,33.332528,33.489733,33.569593,33.236677,33.252847,33.232725,33.338816,33.3204,33.573546,33.449668,33.293002,33.224281,33.300458,33.280425,33.311597,33.557825,33.255991,33.481289,33.401339,33.530157,33.529169,33.391637,33.21377,33.216016,33.556208,33.383821,33.258327,33.392266,33.265962,33.21934,33.118818,33.352111,33.242427,33.337648,33.364328,33.389301,33.176311,33.26174,33.440864,33.290756,33.333426,33.364867,33.300278,33.314202,33.396757,33.24602,33.21404,33.189426,33.378791,33.445626,33.249074,33.24602,33.419485,33.264256,33.258147,33.237845,33.255362,33.249433,33.312136,33.34735,33.282671,33.589266,33.225089,33.538781,33.226976,33.332617,33.273868,33.483175,33.252847,33.458112,33.285725,33.279527,33.341511,33.372952,33.380048,33.520725,33.333875,33.117112,33.370706,33.359118,33.449937,33.244852,33.241708,33.523869,33.419574,33.146576,33.278808,33.46449,33.186551,33.38975,33.182689,33.145409,33.434756,33.306566,33.224281,33.16571,33.199487,33.280066,33.225808,33.281863,33.227245,33.218442,33.491619,33.365945,33.201733,33.508418,33.369808,33.547944,33.332887,33.383462,33.253206,33.179275],\"marker\":{\"color\":[1,1,0,0,1,1,0,1,0,1,1,0,0,1,0,1,0,0,0,1,1,1,1,0,1,0,1,0,1,0,1,0,0,1,0,1,1,1,1,1,0,0,1,1,1,1,1,0,1,1,0,0,0,0,1,0,1,1,1,1,0,0,0,1,1,0,1,1,1,1,1,1,0,0,1,1,1,1,0,0,0,1,1,0,0,0,0,1,0,1,0,1,0,0,0,1,0,0,1,1,1,1,1,1,1,1,0,1,0,0,0,0,0,0,0,1,0,1,1,0,0,1,0,1,1,0,0,1,1,0,0,1,0,0,0,1,0,1,1,1,0,0,1,0,1,0,0,0,0,1,1,0,1,0,1,1,1,0,1,0,1,0,0,1,1,1,1,0,0,1,1,1,0,1,0,0,1,0,0,1,1,0,1,1,1,0,0,0,0,0,1,0,1,1,0,1,0,1,0,1,1,0,0,1,1,0,1,0,0,0,1,0,0,0,1,1,0,1,0,0,0,0,0,0,0,0,1,1,1,1,0,0,0,0,0,1,1,1,1,1,1,0,0,1,0,0,0,1,1,1,1,0,0,0,0,0,1,1,0,1,0,1,0,0,1,0,1,1,0,0,0,0,1,0,0,1,1,0,0,0,0,1,0,1,1,0,0,1,1,1,1,1,1,0,1,0,0,1,0,0,0,1,1,0,0,0,1,1,1,0,0,1,0,1,1,0,0,1,0,1,0,1,0,1,1,1,1,1,1,1,0,1,0,0,1,1,1,1,1,1,0,0,1,1,1,1,0,0,1,1,1,0,1,1,1,0,0,0,1,0,0,0,1,1,1,0,0,0,0,1,1,1,1,1,0,1,0,0,0,0,0,0,1,1,0,0,0,1,0,1,1,1,1,0,1,0,0,0,1,1,1,1,0,0,1,1,0,0,0,0,1,1,1,0,0,0,0,1,0,1,0,1,1,1,1,0,0,1,1,0,1,0,1,1,0,0,1,0,1,0,0,0,1,1,1,1,1,0,0,0,1,0,1,1,0,0,0,1,1,0,0,0,1,0,1,0,0,1,0,1,1,0,1,0,1,0,0,1,1,0,0,0,1,0,1,0,0,1,1,1,0,0,1,0,0,0,1,0,0,0],\"coloraxis\":\"coloraxis\"},\"mode\":\"markers\",\"name\":\"\",\"showlegend\":false,\"subplot\":\"mapbox\",\"type\":\"scattermapbox\"}],                        {\"template\":{\"data\":{\"histogram2dcontour\":[{\"type\":\"histogram2dcontour\",\"colorbar\":{\"outlinewidth\":0,\"ticks\":\"\"},\"colorscale\":[[0.0,\"#0d0887\"],[0.1111111111111111,\"#46039f\"],[0.2222222222222222,\"#7201a8\"],[0.3333333333333333,\"#9c179e\"],[0.4444444444444444,\"#bd3786\"],[0.5555555555555556,\"#d8576b\"],[0.6666666666666666,\"#ed7953\"],[0.7777777777777778,\"#fb9f3a\"],[0.8888888888888888,\"#fdca26\"],[1.0,\"#f0f921\"]]}],\"choropleth\":[{\"type\":\"choropleth\",\"colorbar\":{\"outlinewidth\":0,\"ticks\":\"\"}}],\"histogram2d\":[{\"type\":\"histogram2d\",\"colorbar\":{\"outlinewidth\":0,\"ticks\":\"\"},\"colorscale\":[[0.0,\"#0d0887\"],[0.1111111111111111,\"#46039f\"],[0.2222222222222222,\"#7201a8\"],[0.3333333333333333,\"#9c179e\"],[0.4444444444444444,\"#bd3786\"],[0.5555555555555556,\"#d8576b\"],[0.6666666666666666,\"#ed7953\"],[0.7777777777777778,\"#fb9f3a\"],[0.8888888888888888,\"#fdca26\"],[1.0,\"#f0f921\"]]}],\"heatmap\":[{\"type\":\"heatmap\",\"colorbar\":{\"outlinewidth\":0,\"ticks\":\"\"},\"colorscale\":[[0.0,\"#0d0887\"],[0.1111111111111111,\"#46039f\"],[0.2222222222222222,\"#7201a8\"],[0.3333333333333333,\"#9c179e\"],[0.4444444444444444,\"#bd3786\"],[0.5555555555555556,\"#d8576b\"],[0.6666666666666666,\"#ed7953\"],[0.7777777777777778,\"#fb9f3a\"],[0.8888888888888888,\"#fdca26\"],[1.0,\"#f0f921\"]]}],\"heatmapgl\":[{\"type\":\"heatmapgl\",\"colorbar\":{\"outlinewidth\":0,\"ticks\":\"\"},\"colorscale\":[[0.0,\"#0d0887\"],[0.1111111111111111,\"#46039f\"],[0.2222222222222222,\"#7201a8\"],[0.3333333333333333,\"#9c179e\"],[0.4444444444444444,\"#bd3786\"],[0.5555555555555556,\"#d8576b\"],[0.6666666666666666,\"#ed7953\"],[0.7777777777777778,\"#fb9f3a\"],[0.8888888888888888,\"#fdca26\"],[1.0,\"#f0f921\"]]}],\"contourcarpet\":[{\"type\":\"contourcarpet\",\"colorbar\":{\"outlinewidth\":0,\"ticks\":\"\"}}],\"contour\":[{\"type\":\"contour\",\"colorbar\":{\"outlinewidth\":0,\"ticks\":\"\"},\"colorscale\":[[0.0,\"#0d0887\"],[0.1111111111111111,\"#46039f\"],[0.2222222222222222,\"#7201a8\"],[0.3333333333333333,\"#9c179e\"],[0.4444444444444444,\"#bd3786\"],[0.5555555555555556,\"#d8576b\"],[0.6666666666666666,\"#ed7953\"],[0.7777777777777778,\"#fb9f3a\"],[0.8888888888888888,\"#fdca26\"],[1.0,\"#f0f921\"]]}],\"surface\":[{\"type\":\"surface\",\"colorbar\":{\"outlinewidth\":0,\"ticks\":\"\"},\"colorscale\":[[0.0,\"#0d0887\"],[0.1111111111111111,\"#46039f\"],[0.2222222222222222,\"#7201a8\"],[0.3333333333333333,\"#9c179e\"],[0.4444444444444444,\"#bd3786\"],[0.5555555555555556,\"#d8576b\"],[0.6666666666666666,\"#ed7953\"],[0.7777777777777778,\"#fb9f3a\"],[0.8888888888888888,\"#fdca26\"],[1.0,\"#f0f921\"]]}],\"mesh3d\":[{\"type\":\"mesh3d\",\"colorbar\":{\"outlinewidth\":0,\"ticks\":\"\"}}],\"scatter\":[{\"marker\":{\"line\":{\"color\":\"#283442\"}},\"type\":\"scatter\"}],\"parcoords\":[{\"type\":\"parcoords\",\"line\":{\"colorbar\":{\"outlinewidth\":0,\"ticks\":\"\"}}}],\"scatterpolargl\":[{\"type\":\"scatterpolargl\",\"marker\":{\"colorbar\":{\"outlinewidth\":0,\"ticks\":\"\"}}}],\"bar\":[{\"error_x\":{\"color\":\"#f2f5fa\"},\"error_y\":{\"color\":\"#f2f5fa\"},\"marker\":{\"line\":{\"color\":\"rgb(17,17,17)\",\"width\":0.5},\"pattern\":{\"fillmode\":\"overlay\",\"size\":10,\"solidity\":0.2}},\"type\":\"bar\"}],\"scattergeo\":[{\"type\":\"scattergeo\",\"marker\":{\"colorbar\":{\"outlinewidth\":0,\"ticks\":\"\"}}}],\"scatterpolar\":[{\"type\":\"scatterpolar\",\"marker\":{\"colorbar\":{\"outlinewidth\":0,\"ticks\":\"\"}}}],\"histogram\":[{\"marker\":{\"pattern\":{\"fillmode\":\"overlay\",\"size\":10,\"solidity\":0.2}},\"type\":\"histogram\"}],\"scattergl\":[{\"marker\":{\"line\":{\"color\":\"#283442\"}},\"type\":\"scattergl\"}],\"scatter3d\":[{\"type\":\"scatter3d\",\"line\":{\"colorbar\":{\"outlinewidth\":0,\"ticks\":\"\"}},\"marker\":{\"colorbar\":{\"outlinewidth\":0,\"ticks\":\"\"}}}],\"scattermapbox\":[{\"type\":\"scattermapbox\",\"marker\":{\"colorbar\":{\"outlinewidth\":0,\"ticks\":\"\"}}}],\"scatterternary\":[{\"type\":\"scatterternary\",\"marker\":{\"colorbar\":{\"outlinewidth\":0,\"ticks\":\"\"}}}],\"scattercarpet\":[{\"type\":\"scattercarpet\",\"marker\":{\"colorbar\":{\"outlinewidth\":0,\"ticks\":\"\"}}}],\"carpet\":[{\"aaxis\":{\"endlinecolor\":\"#A2B1C6\",\"gridcolor\":\"#506784\",\"linecolor\":\"#506784\",\"minorgridcolor\":\"#506784\",\"startlinecolor\":\"#A2B1C6\"},\"baxis\":{\"endlinecolor\":\"#A2B1C6\",\"gridcolor\":\"#506784\",\"linecolor\":\"#506784\",\"minorgridcolor\":\"#506784\",\"startlinecolor\":\"#A2B1C6\"},\"type\":\"carpet\"}],\"table\":[{\"cells\":{\"fill\":{\"color\":\"#506784\"},\"line\":{\"color\":\"rgb(17,17,17)\"}},\"header\":{\"fill\":{\"color\":\"#2a3f5f\"},\"line\":{\"color\":\"rgb(17,17,17)\"}},\"type\":\"table\"}],\"barpolar\":[{\"marker\":{\"line\":{\"color\":\"rgb(17,17,17)\",\"width\":0.5},\"pattern\":{\"fillmode\":\"overlay\",\"size\":10,\"solidity\":0.2}},\"type\":\"barpolar\"}],\"pie\":[{\"automargin\":true,\"type\":\"pie\"}]},\"layout\":{\"autotypenumbers\":\"strict\",\"colorway\":[\"#636efa\",\"#EF553B\",\"#00cc96\",\"#ab63fa\",\"#FFA15A\",\"#19d3f3\",\"#FF6692\",\"#B6E880\",\"#FF97FF\",\"#FECB52\"],\"font\":{\"color\":\"#f2f5fa\"},\"hovermode\":\"closest\",\"hoverlabel\":{\"align\":\"left\"},\"paper_bgcolor\":\"rgb(17,17,17)\",\"plot_bgcolor\":\"rgb(17,17,17)\",\"polar\":{\"bgcolor\":\"rgb(17,17,17)\",\"angularaxis\":{\"gridcolor\":\"#506784\",\"linecolor\":\"#506784\",\"ticks\":\"\"},\"radialaxis\":{\"gridcolor\":\"#506784\",\"linecolor\":\"#506784\",\"ticks\":\"\"}},\"ternary\":{\"bgcolor\":\"rgb(17,17,17)\",\"aaxis\":{\"gridcolor\":\"#506784\",\"linecolor\":\"#506784\",\"ticks\":\"\"},\"baxis\":{\"gridcolor\":\"#506784\",\"linecolor\":\"#506784\",\"ticks\":\"\"},\"caxis\":{\"gridcolor\":\"#506784\",\"linecolor\":\"#506784\",\"ticks\":\"\"}},\"coloraxis\":{\"colorbar\":{\"outlinewidth\":0,\"ticks\":\"\"}},\"colorscale\":{\"sequential\":[[0.0,\"#0d0887\"],[0.1111111111111111,\"#46039f\"],[0.2222222222222222,\"#7201a8\"],[0.3333333333333333,\"#9c179e\"],[0.4444444444444444,\"#bd3786\"],[0.5555555555555556,\"#d8576b\"],[0.6666666666666666,\"#ed7953\"],[0.7777777777777778,\"#fb9f3a\"],[0.8888888888888888,\"#fdca26\"],[1.0,\"#f0f921\"]],\"sequentialminus\":[[0.0,\"#0d0887\"],[0.1111111111111111,\"#46039f\"],[0.2222222222222222,\"#7201a8\"],[0.3333333333333333,\"#9c179e\"],[0.4444444444444444,\"#bd3786\"],[0.5555555555555556,\"#d8576b\"],[0.6666666666666666,\"#ed7953\"],[0.7777777777777778,\"#fb9f3a\"],[0.8888888888888888,\"#fdca26\"],[1.0,\"#f0f921\"]],\"diverging\":[[0,\"#8e0152\"],[0.1,\"#c51b7d\"],[0.2,\"#de77ae\"],[0.3,\"#f1b6da\"],[0.4,\"#fde0ef\"],[0.5,\"#f7f7f7\"],[0.6,\"#e6f5d0\"],[0.7,\"#b8e186\"],[0.8,\"#7fbc41\"],[0.9,\"#4d9221\"],[1,\"#276419\"]]},\"xaxis\":{\"gridcolor\":\"#283442\",\"linecolor\":\"#506784\",\"ticks\":\"\",\"title\":{\"standoff\":15},\"zerolinecolor\":\"#283442\",\"automargin\":true,\"zerolinewidth\":2},\"yaxis\":{\"gridcolor\":\"#283442\",\"linecolor\":\"#506784\",\"ticks\":\"\",\"title\":{\"standoff\":15},\"zerolinecolor\":\"#283442\",\"automargin\":true,\"zerolinewidth\":2},\"scene\":{\"xaxis\":{\"backgroundcolor\":\"rgb(17,17,17)\",\"gridcolor\":\"#506784\",\"linecolor\":\"#506784\",\"showbackground\":true,\"ticks\":\"\",\"zerolinecolor\":\"#C8D4E3\",\"gridwidth\":2},\"yaxis\":{\"backgroundcolor\":\"rgb(17,17,17)\",\"gridcolor\":\"#506784\",\"linecolor\":\"#506784\",\"showbackground\":true,\"ticks\":\"\",\"zerolinecolor\":\"#C8D4E3\",\"gridwidth\":2},\"zaxis\":{\"backgroundcolor\":\"rgb(17,17,17)\",\"gridcolor\":\"#506784\",\"linecolor\":\"#506784\",\"showbackground\":true,\"ticks\":\"\",\"zerolinecolor\":\"#C8D4E3\",\"gridwidth\":2}},\"shapedefaults\":{\"line\":{\"color\":\"#f2f5fa\"}},\"annotationdefaults\":{\"arrowcolor\":\"#f2f5fa\",\"arrowhead\":0,\"arrowwidth\":1},\"geo\":{\"bgcolor\":\"rgb(17,17,17)\",\"landcolor\":\"rgb(17,17,17)\",\"subunitcolor\":\"#506784\",\"showland\":true,\"showlakes\":true,\"lakecolor\":\"rgb(17,17,17)\"},\"title\":{\"x\":0.05},\"updatemenudefaults\":{\"bgcolor\":\"#506784\",\"borderwidth\":0},\"sliderdefaults\":{\"bgcolor\":\"#C8D4E3\",\"borderwidth\":1,\"bordercolor\":\"rgb(17,17,17)\",\"tickwidth\":0},\"mapbox\":{\"style\":\"dark\"}}},\"mapbox\":{\"domain\":{\"x\":[0.0,1.0],\"y\":[0.0,1.0]},\"center\":{\"lat\":14.351939365999998,\"lon\":33.33568501199999},\"zoom\":9,\"style\":\"open-street-map\"},\"coloraxis\":{\"colorbar\":{\"title\":{\"text\":\"Target\"}},\"colorscale\":[[0.0,\"#0d0887\"],[0.1111111111111111,\"#46039f\"],[0.2222222222222222,\"#7201a8\"],[0.3333333333333333,\"#9c179e\"],[0.4444444444444444,\"#bd3786\"],[0.5555555555555556,\"#d8576b\"],[0.6666666666666666,\"#ed7953\"],[0.7777777777777778,\"#fb9f3a\"],[0.8888888888888888,\"#fdca26\"],[1.0,\"#f0f921\"]]},\"legend\":{\"tracegroupgap\":0},\"margin\":{\"t\":0,\"r\":0,\"l\":0,\"b\":0},\"height\":600},                        {\"responsive\": true}                    ).then(function(){\n                            \nvar gd = document.getElementById('d22e1d9b-9479-4bb9-8a69-8107ea01d4c5');\nvar x = new MutationObserver(function (mutations, observer) {{\n        var display = window.getComputedStyle(gd).display;\n        if (!display || display === 'none') {{\n            console.log([gd, 'removed!']);\n            Plotly.purge(gd);\n            observer.disconnect();\n        }}\n}});\n\n// Listen for the removal of the full notebook cells\nvar notebookContainer = gd.closest('#notebook-container');\nif (notebookContainer) {{\n    x.observe(notebookContainer, {childList: true});\n}}\n\n// Listen for the clearing of the current output cell\nvar outputEl = gd.closest('.output');\nif (outputEl) {{\n    x.observe(outputEl, {childList: true});\n}}\n\n                        })                };                });            </script>        </div>"
     },
     "metadata": {},
     "output_type": "display_data"
    },
    {
     "data": {
      "text/plain": "<Figure size 2000x2000 with 0 Axes>"
     },
     "metadata": {},
     "output_type": "display_data"
    }
   ],
   "source": [
    "plt.figure(figsize=(20, 20))\n",
    "\n",
    "fig = px.scatter_mapbox(sudan_train, lat=\"Lat\", lon=\"Lon\", color=\"Target\", zoom=9, height=600, color_discrete_sequence=['fuchsia'])\n",
    "fig.update_layout(mapbox_style=\"open-street-map\")\n",
    "fig.update_layout(margin={\"r\":0,\"t\":0,\"l\":0,\"b\":0})\n",
    "fig.show()"
   ],
   "metadata": {
    "collapsed": false,
    "ExecuteTime": {
     "end_time": "2023-10-02T19:43:36.876880500Z",
     "start_time": "2023-10-02T19:43:36.662249Z"
    }
   }
  },
  {
   "cell_type": "code",
   "execution_count": 60,
   "outputs": [],
   "source": [
    "# Get extents of Sudan\n",
    "sudan_extent = sudan_geodata.total_bounds.tolist()\n"
   ],
   "metadata": {
    "collapsed": false,
    "ExecuteTime": {
     "end_time": "2023-10-03T03:23:40.327512900Z",
     "start_time": "2023-10-03T03:23:40.247110900Z"
    }
   }
  },
  {
   "cell_type": "markdown",
   "source": [
    "# Sudan Get NDVI"
   ],
   "metadata": {
    "collapsed": false
   }
  },
  {
   "cell_type": "code",
   "execution_count": 63,
   "outputs": [],
   "source": [
    "Map = geemap.Map(center=[15.5, 30], zoom=6)"
   ],
   "metadata": {
    "collapsed": false,
    "ExecuteTime": {
     "end_time": "2023-10-03T03:31:00.930096400Z",
     "start_time": "2023-10-03T03:31:00.759809800Z"
    }
   }
  },
  {
   "cell_type": "code",
   "execution_count": 62,
   "outputs": [],
   "source": [
    "def mask_s2_clouds(image):\n",
    "  qa = image.select('QA60')\n",
    "  cloud_bit_mask = 1 << 10\n",
    "  cirrus_bit_mask = 1 << 11\n",
    "  mask = qa.bitwiseAnd(cloud_bit_mask).eq(0).And(qa.bitwiseAnd(cirrus_bit_mask).eq(0))\n",
    "  return image.updateMask(mask).divide(10000)"
   ],
   "metadata": {
    "collapsed": false,
    "ExecuteTime": {
     "start_time": "2023-10-03T03:30:12.905582200Z"
    }
   }
  },
  {
   "cell_type": "code",
   "execution_count": 53,
   "outputs": [],
   "source": [
    "s2_collection = ee.ImageCollection('COPERNICUS/S2_SR').filterBounds(ee.Geometry.Rectangle(sudan_extent)).filterDate('2022-04-01', '2022-05-31').filterMetadata('CLOUDY_PIXEL_PERCENTAGE', 'less_than', 10).map(mask_s2_clouds)"
   ],
   "metadata": {
    "collapsed": false,
    "ExecuteTime": {
     "start_time": "2023-10-02T19:44:30.019973900Z"
    }
   }
  },
  {
   "cell_type": "code",
   "execution_count": 66,
   "outputs": [],
   "source": [
    "vis_params = {\n",
    "  'min': 0,\n",
    "  'max': 0.3,\n",
    "  'bands': ['B4', 'B3', 'B2']\n",
    "}"
   ],
   "metadata": {
    "collapsed": false,
    "ExecuteTime": {
     "end_time": "2023-10-03T03:31:53.191053100Z",
     "start_time": "2023-10-03T03:31:53.150979900Z"
    }
   }
  },
  {
   "cell_type": "code",
   "execution_count": 67,
   "outputs": [],
   "source": [
    "Map.addLayer(s2_collection.median(), vis_params, 'S2')"
   ],
   "metadata": {
    "collapsed": false,
    "ExecuteTime": {
     "end_time": "2023-10-03T03:32:00.618526500Z",
     "start_time": "2023-10-03T03:31:53.610639700Z"
    }
   }
  },
  {
   "cell_type": "code",
   "execution_count": 68,
   "outputs": [
    {
     "data": {
      "text/plain": "Map(center=[15.5, 30], controls=(WidgetControl(options=['position', 'transparent_bg'], widget=HBox(children=(T…",
      "application/vnd.jupyter.widget-view+json": {
       "version_major": 2,
       "version_minor": 0,
       "model_id": "1408201855074d47859d36789ed1df2e"
      }
     },
     "execution_count": 68,
     "metadata": {},
     "output_type": "execute_result"
    }
   ],
   "source": [
    "Map"
   ],
   "metadata": {
    "collapsed": false,
    "ExecuteTime": {
     "end_time": "2023-10-03T03:32:22.002833900Z",
     "start_time": "2023-10-03T03:32:21.947524600Z"
    }
   }
  }
 ],
 "metadata": {
  "kernelspec": {
   "display_name": "zindi",
   "language": "python",
   "name": "python3"
  },
  "language_info": {
   "codemirror_mode": {
    "name": "ipython",
    "version": 3
   },
   "file_extension": ".py",
   "mimetype": "text/x-python",
   "name": "python",
   "nbconvert_exporter": "python",
   "pygments_lexer": "ipython3",
   "version": "3.11.5"
  },
  "orig_nbformat": 4
 },
 "nbformat": 4,
 "nbformat_minor": 2
}
