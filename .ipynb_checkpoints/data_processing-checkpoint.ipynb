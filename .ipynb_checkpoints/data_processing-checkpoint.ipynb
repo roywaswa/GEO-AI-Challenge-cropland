{
 "cells": [
  {
   "cell_type": "markdown",
   "id": "995e0616-1095-4b6f-a089-212c28726853",
   "metadata": {},
   "source": [
    "# Data Preporcessing"
   ]
  },
  {
   "cell_type": "code",
   "execution_count": 2,
   "id": "b55a9227-a887-4a52-8a4a-7b8dda2a5c64",
   "metadata": {
    "tags": []
   },
   "outputs": [],
   "source": [
    "import pandas as pd\n",
    "import geopandas as gpd\n",
    "import numpy as np\n",
    "import matplotlib.pyplot as plt\n",
    "import seaborn as sns"
   ]
  },
  {
   "cell_type": "code",
   "execution_count": 5,
   "id": "69270784-9e9a-48a7-82c0-2b6fe195e240",
   "metadata": {
    "tags": []
   },
   "outputs": [],
   "source": [
    "train_data = pd.read_csv('data/Train.csv', index_col='ID')\n",
    "test_data = pd.read_csv('data/Test.csv', index_col='ID')"
   ]
  },
  {
   "cell_type": "code",
   "execution_count": 4,
   "id": "7f4cc6be-aad2-4a6c-b42d-2c7f0482143e",
   "metadata": {
    "tags": []
   },
   "outputs": [
    {
     "data": {
      "text/plain": [
       "Index(['ID_SJ098E7S2SY9', 'ID_CWCD60FGJJYY', 'ID_R1XF70RMVGL3',\n",
       "       'ID_0ZBIDY0PEBVO', 'ID_C20R2C0AYIT0', 'ID_MMU0PFMDQ7FW',\n",
       "       'ID_FA7TDFAUVU2A', 'ID_I5DS1NLN2WM8', 'ID_5QV3RGD8E6L6',\n",
       "       'ID_JBRO8Z453K1J',\n",
       "       ...\n",
       "       'ID_OJB81QF7T0BJ', 'ID_69KCU4K9W6Q3', 'ID_D0298HX6VZQO',\n",
       "       'ID_LODST8KEVHK5', 'ID_VD5FLFXSF3V4', 'ID_T3WAJGS3B84X',\n",
       "       'ID_Q31SWRW623Y8', 'ID_O2KBC7HPNOAQ', 'ID_8VNTHGHLSUNI',\n",
       "       'ID_C5ACHNL98VTX'],\n",
       "      dtype='object', name='ID', length=1500)"
      ]
     },
     "execution_count": 4,
     "metadata": {},
     "output_type": "execute_result"
    }
   ],
   "source": [
    "features = train_data.exclude"
   ]
  }
 ],
 "metadata": {
  "kernelspec": {
   "display_name": "Python 3 (ipykernel)",
   "language": "python",
   "name": "python3"
  },
  "language_info": {
   "codemirror_mode": {
    "name": "ipython",
    "version": 3
   },
   "file_extension": ".py",
   "mimetype": "text/x-python",
   "name": "python",
   "nbconvert_exporter": "python",
   "pygments_lexer": "ipython3",
   "version": "3.11.5"
  }
 },
 "nbformat": 4,
 "nbformat_minor": 5
}
